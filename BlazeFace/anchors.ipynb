{
 "cells": [
  {
   "cell_type": "markdown",
   "metadata": {},
   "source": [
    "reference: https://github.com/hollance/BlazeFace-PyTorch/blob/master/Anchors.ipynb"
   ]
  },
  {
   "cell_type": "code",
   "execution_count": 12,
   "metadata": {},
   "outputs": [],
   "source": [
    "import numpy as np"
   ]
  },
  {
   "cell_type": "code",
   "execution_count": 13,
   "metadata": {},
   "outputs": [],
   "source": [
    "anchor_options = {\n",
    "    \"num_layers\": 4,\n",
    "    \"min_scale\": 0.1484375, # default: 0.1484375, custom: 0.05\n",
    "    \"max_scale\": 0.75,\n",
    "    \"input_size_height\": 128,\n",
    "    \"input_size_width\": 128,\n",
    "    \"anchor_offset_x\": 0.5,\n",
    "    \"anchor_offset_y\": 0.5,\n",
    "    \"strides\": [8, 16, 16, 16],\n",
    "    \"aspect_ratios\": [1.0],\n",
    "    \"reduce_boxes_in_lowest_layer\": False,\n",
    "    \"interpolated_scale_aspect_ratio\": 1.0,\n",
    "    \"fixed_anchor_size\": False,\n",
    "}"
   ]
  },
  {
   "cell_type": "code",
   "execution_count": 14,
   "metadata": {},
   "outputs": [],
   "source": [
    "# SSD: Single Shot Multibox Detector: \n",
    "#   Choosing scales and aspect ratios for default boxes 수식 (4) 참고\n",
    "def calculate_scale(min_scale, max_scale, stride_index, num_strides):\n",
    "    return min_scale + (max_scale - min_scale) * stride_index / (num_strides - 1.0)\n",
    "\n",
    "\n",
    "def generate_anchors(options):\n",
    "    strides_size = len(options[\"strides\"])\n",
    "    assert options[\"num_layers\"] == strides_size\n",
    "\n",
    "    anchors = []\n",
    "    layer_id = 0\n",
    "    while layer_id < strides_size:\n",
    "        anchor_height = []\n",
    "        anchor_width = []\n",
    "        aspect_ratios = []\n",
    "        scales = []\n",
    "\n",
    "        # For same strides, we merge the anchors in the same order.\n",
    "        last_same_stride_layer = layer_id\n",
    "        # size 8에서 stride 16으로 2번 append, (128 / 16) ** 2 * 6 = 512\n",
    "        # size 16에서 stride 8로 6번 append, (128 / 8) ** 2 * 2 = 384\n",
    "        while (last_same_stride_layer < strides_size) and \\\n",
    "              (options[\"strides\"][last_same_stride_layer] == options[\"strides\"][layer_id]):\n",
    "\n",
    "            # 현재 layer에 해당하는 scale을 계산한다.\n",
    "            scale = calculate_scale(options[\"min_scale\"],\n",
    "                                    options[\"max_scale\"],\n",
    "                                    last_same_stride_layer,\n",
    "                                    strides_size)\n",
    "\n",
    "            if last_same_stride_layer == 0 and options[\"reduce_boxes_in_lowest_layer\"]:\n",
    "                # For first layer, it can be specified to use predefined anchors.\n",
    "                # 첫 번째 layer에서 사전에 정의된 anchors가 필요한 경우에 다음 if문 내의 코드를 사용할 수 있다.\n",
    "                aspect_ratios.append(1.0)\n",
    "                aspect_ratios.append(2.0)\n",
    "                aspect_ratios.append(0.5)\n",
    "                scales.append(0.1)\n",
    "                scales.append(scale)\n",
    "                scales.append(scale)                \n",
    "            else:\n",
    "                for aspect_ratio in options[\"aspect_ratios\"]: \n",
    "                    # aspect ratio는 1로 고정. 정사각형 box에 대한 얼굴을 찾을 것이다.\n",
    "                    aspect_ratios.append(aspect_ratio)\n",
    "                    scales.append(scale)\n",
    "\n",
    "                if options[\"interpolated_scale_aspect_ratio\"] > 0.0:\n",
    "                    # 마지막 layer인 경우, max_scale과 1 사이의 중간값을 scales에 추가한다.\n",
    "                    scale_next = 1.0 if last_same_stride_layer == strides_size - 1 \\\n",
    "                                     else calculate_scale(options[\"min_scale\"],\n",
    "                                                          options[\"max_scale\"],\n",
    "                                                          last_same_stride_layer + 1,\n",
    "                                                          strides_size)\n",
    "                    scales.append(np.sqrt(scale * scale_next))\n",
    "                    aspect_ratios.append(options[\"interpolated_scale_aspect_ratio\"])\n",
    "\n",
    "            last_same_stride_layer += 1\n",
    "        \n",
    "        for i, aspect_ratio in enumerate(aspect_ratios):\n",
    "            ratio_sqrts = np.sqrt(aspect_ratio)\n",
    "            anchor_height.append(scales[i] / ratio_sqrts)\n",
    "            anchor_width.append(scales[i] * ratio_sqrts)            \n",
    "        \n",
    "        stride = options[\"strides\"][layer_id]\n",
    "        feature_map_height = int(np.ceil(options[\"input_size_height\"] / stride)) # np.ceil: 올림함수\n",
    "        feature_map_width = int(np.ceil(options[\"input_size_width\"] / stride))\n",
    "        \n",
    "        for y in range(feature_map_height):\n",
    "            for x in range(feature_map_width):\n",
    "                for anchor_id in range(len(anchor_height)):\n",
    "                    x_center = (x + options[\"anchor_offset_x\"]) / feature_map_width\n",
    "                    y_center = (y + options[\"anchor_offset_y\"]) / feature_map_height\n",
    "\n",
    "                    new_anchor = [x_center, y_center, 0, 0]\n",
    "                    if options[\"fixed_anchor_size\"]:\n",
    "                        # BlazeFace에선 고정된 aspect ratio를 사용하기 때문에 width, height는 항상 1.0이다.\n",
    "                        new_anchor[2] = 1.0\n",
    "                        new_anchor[3] = 1.0\n",
    "                    else:\n",
    "                        new_anchor[2] = anchor_width[anchor_id]\n",
    "                        new_anchor[3] = anchor_height[anchor_id]\n",
    "                    anchors.append(new_anchor)\n",
    "\n",
    "        layer_id = last_same_stride_layer\n",
    "\n",
    "    return anchors"
   ]
  },
  {
   "cell_type": "code",
   "execution_count": 15,
   "metadata": {},
   "outputs": [],
   "source": [
    "anchors = generate_anchors(anchor_options)\n",
    "\n",
    "assert len(anchors) == 896"
   ]
  },
  {
   "cell_type": "code",
   "execution_count": 16,
   "metadata": {},
   "outputs": [
    {
     "data": {
      "text/plain": [
       "[[0.03125, 0.03125, 0.1484375, 0.1484375],\n",
       " [0.03125, 0.03125, 0.22759284392125925, 0.22759284392125925],\n",
       " [0.09375, 0.03125, 0.1484375, 0.1484375],\n",
       " [0.09375, 0.03125, 0.22759284392125925, 0.22759284392125925],\n",
       " [0.15625, 0.03125, 0.1484375, 0.1484375],\n",
       " [0.15625, 0.03125, 0.22759284392125925, 0.22759284392125925],\n",
       " [0.21875, 0.03125, 0.1484375, 0.1484375],\n",
       " [0.21875, 0.03125, 0.22759284392125925, 0.22759284392125925],\n",
       " [0.28125, 0.03125, 0.1484375, 0.1484375],\n",
       " [0.28125, 0.03125, 0.22759284392125925, 0.22759284392125925],\n",
       " [0.34375, 0.03125, 0.1484375, 0.1484375],\n",
       " [0.34375, 0.03125, 0.22759284392125925, 0.22759284392125925],\n",
       " [0.40625, 0.03125, 0.1484375, 0.1484375],\n",
       " [0.40625, 0.03125, 0.22759284392125925, 0.22759284392125925],\n",
       " [0.46875, 0.03125, 0.1484375, 0.1484375],\n",
       " [0.46875, 0.03125, 0.22759284392125925, 0.22759284392125925],\n",
       " [0.53125, 0.03125, 0.1484375, 0.1484375],\n",
       " [0.53125, 0.03125, 0.22759284392125925, 0.22759284392125925],\n",
       " [0.59375, 0.03125, 0.1484375, 0.1484375],\n",
       " [0.59375, 0.03125, 0.22759284392125925, 0.22759284392125925],\n",
       " [0.65625, 0.03125, 0.1484375, 0.1484375],\n",
       " [0.65625, 0.03125, 0.22759284392125925, 0.22759284392125925],\n",
       " [0.71875, 0.03125, 0.1484375, 0.1484375],\n",
       " [0.71875, 0.03125, 0.22759284392125925, 0.22759284392125925],\n",
       " [0.78125, 0.03125, 0.1484375, 0.1484375],\n",
       " [0.78125, 0.03125, 0.22759284392125925, 0.22759284392125925],\n",
       " [0.84375, 0.03125, 0.1484375, 0.1484375],\n",
       " [0.84375, 0.03125, 0.22759284392125925, 0.22759284392125925],\n",
       " [0.90625, 0.03125, 0.1484375, 0.1484375],\n",
       " [0.90625, 0.03125, 0.22759284392125925, 0.22759284392125925],\n",
       " [0.96875, 0.03125, 0.1484375, 0.1484375],\n",
       " [0.96875, 0.03125, 0.22759284392125925, 0.22759284392125925],\n",
       " [0.03125, 0.09375, 0.1484375, 0.1484375],\n",
       " [0.03125, 0.09375, 0.22759284392125925, 0.22759284392125925],\n",
       " [0.09375, 0.09375, 0.1484375, 0.1484375],\n",
       " [0.09375, 0.09375, 0.22759284392125925, 0.22759284392125925],\n",
       " [0.15625, 0.09375, 0.1484375, 0.1484375],\n",
       " [0.15625, 0.09375, 0.22759284392125925, 0.22759284392125925],\n",
       " [0.21875, 0.09375, 0.1484375, 0.1484375],\n",
       " [0.21875, 0.09375, 0.22759284392125925, 0.22759284392125925],\n",
       " [0.28125, 0.09375, 0.1484375, 0.1484375],\n",
       " [0.28125, 0.09375, 0.22759284392125925, 0.22759284392125925],\n",
       " [0.34375, 0.09375, 0.1484375, 0.1484375],\n",
       " [0.34375, 0.09375, 0.22759284392125925, 0.22759284392125925],\n",
       " [0.40625, 0.09375, 0.1484375, 0.1484375],\n",
       " [0.40625, 0.09375, 0.22759284392125925, 0.22759284392125925],\n",
       " [0.46875, 0.09375, 0.1484375, 0.1484375],\n",
       " [0.46875, 0.09375, 0.22759284392125925, 0.22759284392125925],\n",
       " [0.53125, 0.09375, 0.1484375, 0.1484375],\n",
       " [0.53125, 0.09375, 0.22759284392125925, 0.22759284392125925]]"
      ]
     },
     "execution_count": 16,
     "metadata": {},
     "output_type": "execute_result"
    }
   ],
   "source": [
    "anchors[:50]"
   ]
  },
  {
   "cell_type": "code",
   "execution_count": 17,
   "metadata": {},
   "outputs": [],
   "source": [
    "np.save(\"anchors.npy\", anchors)"
   ]
  },
  {
   "cell_type": "code",
   "execution_count": null,
   "metadata": {},
   "outputs": [],
   "source": []
  }
 ],
 "metadata": {
  "interpreter": {
   "hash": "e922dd073470bdcc017ae3abd31d6491d6ed7bf31c1d559806e5511bfea88b81"
  },
  "kernelspec": {
   "display_name": "Python 3.8.10 64-bit",
   "language": "python",
   "name": "python3"
  },
  "language_info": {
   "codemirror_mode": {
    "name": "ipython",
    "version": 3
   },
   "file_extension": ".py",
   "mimetype": "text/x-python",
   "name": "python",
   "nbconvert_exporter": "python",
   "pygments_lexer": "ipython3",
   "version": "3.8.10"
  },
  "orig_nbformat": 4
 },
 "nbformat": 4,
 "nbformat_minor": 2
}
