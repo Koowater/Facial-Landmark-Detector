{
 "cells": [
  {
   "cell_type": "code",
   "execution_count": 1,
   "source": [
    "from tqdm import tqdm\n",
    "import numpy as np\n",
    "import os\n",
    "from os import path\n",
    "import glob\n",
    "import shutil\n",
    "import pandas as pd"
   ],
   "outputs": [],
   "metadata": {}
  },
  {
   "cell_type": "code",
   "execution_count": 3,
   "source": [
    "'''\n",
    "    dataset_dir: '../../Data'\n",
    "    300W, afw, helen, ibug, lfpw, 300VW\n",
    "'''"
   ],
   "outputs": [
    {
     "output_type": "execute_result",
     "data": {
      "text/plain": [
       "\"\\n    dataset_dir: '../../Data'\\n    300W, afw, helen, ibug, lfpw, 300VW\\n\""
      ]
     },
     "metadata": {},
     "execution_count": 3
    }
   ],
   "metadata": {}
  },
  {
   "cell_type": "code",
   "execution_count": 4,
   "source": [
    "class Merge_Datasets:\n",
    "    def __init__(self, base_dir='../../Data'):\n",
    "        self.base_dir = base_dir\n",
    "        self.target_dir = path.join(self.base_dir, '300W_train')\n",
    "        self.train_csv = path.join(self.target_dir, 'train.csv')\n",
    "\n",
    "        self.df = pd.DataFrame(columns=['image', 'label'])\n",
    "\n",
    "    def read_pts(self, filename):\n",
    "        return np.loadtxt(filename, comments=(\"version:\", \"n_points:\", \"{\", \"}\"))\n",
    "\n",
    "    def merge_total(self, ds_name):\n",
    "        targetPattern = path.join(self.base_dir, ds_name, '*.pts')\n",
    "        pts_list = glob.glob(targetPattern)\n",
    "\n",
    "        for pts_file in tqdm(pts_list, desc=ds_name):\n",
    "            pts_arr = self.read_pts(pts_file)\n",
    "            if pts_arr.shape != (68, 2):\n",
    "                print(f'shape error: {pts_arr}')\n",
    "                continue\n",
    "\n",
    "            base_csv = path.splitext(path.basename(pts_file))[0] + '.csv'\n",
    "            csv_file = path.join(self.target_dir, ds_name, 'label', base_csv)\n",
    "            np.savetxt(csv_file, pts_arr, fmt='%1.6f')\n",
    "\n",
    "            base_img = path.splitext(path.basename(pts_file))[0] + '.jpg'\n",
    "            img_file = path.join(self.base_dir, ds_name, base_img)\n",
    "            save_img = path.join(self.target_dir, ds_name, 'image', base_img)\n",
    "            shutil.copyfile(img_file, save_img)\n",
    "\n",
    "            dir_img = save_img.split(path.sep)[-3:]\n",
    "            dir_img = path.join(dir_img[0], dir_img[1], dir_img[2])\n",
    "            dir_csv = csv_file.split(path.sep)[-3:]\n",
    "            dir_csv = os.path.join(dir_csv[0], dir_csv[1], dir_csv[2])\n",
    "            self.df.loc[self.df.shape[0]] = {'image': dir_img, 'label': dir_csv}\n",
    "\n",
    "    def merge_traintest(self, ds_name, img_type):\n",
    "        # train\n",
    "        mode = 'trainset'\n",
    "        targetPattern = path.join(self.base_dir, ds_name, mode, '*.pts')\n",
    "        pts_list = glob.glob(targetPattern)\n",
    "        \n",
    "        for pts_file in tqdm(pts_list, desc=ds_name + '_' + mode):\n",
    "            pts_arr = self.read_pts(pts_file)\n",
    "            if pts_arr.shape != (68, 2):\n",
    "                print(f'shape error: {pts_arr}')\n",
    "                continue\n",
    "\n",
    "            base_csv = path.splitext(path.basename(pts_file))[0] + '.csv'\n",
    "            csv_file = path.join(self.target_dir, ds_name, 'label', mode + '_' + base_csv)\n",
    "            np.savetxt(csv_file, pts_arr, fmt='%1.6f')\n",
    "            \n",
    "            base_img = path.splitext(path.basename(pts_file))[0] + '.' + img_type\n",
    "            img_file = path.join(self.base_dir, ds_name, mode, base_img)\n",
    "            save_img = path.join(self.target_dir, ds_name, 'image', mode + '_' + base_img)\n",
    "            shutil.copyfile(img_file, save_img)\n",
    "\n",
    "            dir_img = save_img.split(path.sep)[-3:]\n",
    "            dir_img = path.join(dir_img[0], dir_img[1], dir_img[2])\n",
    "            dir_csv = csv_file.split(path.sep)[-3:]\n",
    "            dir_csv = os.path.join(dir_csv[0], dir_csv[1], dir_csv[2])\n",
    "            self.df.loc[self.df.shape[0]] = {'image': dir_img, 'label': dir_csv}\n",
    "\n",
    "        # test\n",
    "        mode = 'testset'\n",
    "        targetPattern = path.join(self.base_dir, ds_name, mode, '*.pts')\n",
    "        pts_list = glob.glob(targetPattern)\n",
    "        \n",
    "        for pts_file in tqdm(pts_list, desc=ds_name + '_' + mode):\n",
    "            pts_arr = self.read_pts(pts_file)\n",
    "            if pts_arr.shape != (68, 2):\n",
    "                print(f'shape error: {pts_arr}')\n",
    "                continue\n",
    "\n",
    "            base_csv = path.splitext(path.basename(pts_file))[0] + '.csv'\n",
    "            csv_file = path.join(self.target_dir, ds_name, 'label', mode + '_' + base_csv)\n",
    "            np.savetxt(csv_file, pts_arr, fmt='%1.6f')\n",
    "\n",
    "            base_img = path.splitext(path.basename(pts_file))[0] + '.' + img_type\n",
    "            img_file = path.join(self.base_dir, ds_name, mode, base_img)\n",
    "            save_img = path.join(self.target_dir, ds_name, 'image', mode + '_' + base_img)\n",
    "            shutil.copyfile(img_file, save_img)\n",
    "\n",
    "            dir_img = save_img.split(path.sep)[-3:]\n",
    "            dir_img = path.join(dir_img[0], dir_img[1], dir_img[2])\n",
    "            dir_csv = csv_file.split(path.sep)[-3:]\n",
    "            dir_csv = os.path.join(dir_csv[0], dir_csv[1], dir_csv[2])\n",
    "            self.df.loc[self.df.shape[0]] = {'image': dir_img, 'label': dir_csv}\n",
    "\n",
    "    def merge_afw(self):\n",
    "        ds_name = 'afw'\n",
    "        self.merge_total(ds_name)\n",
    "\n",
    "    def merge_ibug(self):\n",
    "        ds_name = 'ibug'\n",
    "        self.merge_total(ds_name)\n",
    "\n",
    "    def merge_helen(self):\n",
    "        ds_name = 'helen'\n",
    "        self.merge_traintest(ds_name, 'jpg')\n",
    "\n",
    "    def merge_lfpw(self):\n",
    "        ds_name = 'lfpw'\n",
    "        self.merge_traintest(ds_name, 'png')\n",
    "\n",
    "    def merge(self):\n",
    "        self.merge_afw()\n",
    "        self.merge_ibug()\n",
    "        self.merge_helen()\n",
    "        self.merge_lfpw()\n",
    "        print(f'DataFrame\\'s shape: {self.df.shape}')\n",
    "\n",
    "    def dataframe(self):\n",
    "        return self.df\n",
    "\n",
    "    def save_csv(self, path):\n",
    "        self.df.to_csv(path)\n",
    "\n",
    "    def __len__(self):\n",
    "        return self.df.shape[0]"
   ],
   "outputs": [],
   "metadata": {}
  },
  {
   "cell_type": "code",
   "execution_count": 13,
   "source": [
    "MergeDatasets = Merge_Datasets('../../Data')\n",
    "MergeDatasets.merge()\n",
    "MergeDatasets.save_csv(MergeDatasets.train_csv)"
   ],
   "outputs": [
    {
     "output_type": "stream",
     "name": "stderr",
     "text": [
      "afw: 100%|██████████| 337/337 [00:00<00:00, 463.45it/s]\n",
      "ibug: 100%|██████████| 135/135 [00:00<00:00, 495.54it/s]\n",
      "helen_trainset: 100%|██████████| 2000/2000 [00:04<00:00, 497.41it/s]\n",
      "helen_testset: 100%|██████████| 330/330 [00:00<00:00, 481.40it/s]\n",
      "lfpw_trainset: 100%|██████████| 811/811 [00:01<00:00, 481.29it/s]\n",
      "lfpw_testset: 100%|██████████| 224/224 [00:00<00:00, 486.66it/s]"
     ]
    },
    {
     "output_type": "stream",
     "name": "stdout",
     "text": [
      "DataFrame's shape: (3837, 2)\n"
     ]
    },
    {
     "output_type": "stream",
     "name": "stderr",
     "text": [
      "\n"
     ]
    }
   ],
   "metadata": {}
  },
  {
   "cell_type": "code",
   "execution_count": 44,
   "source": [
    "class Merge_300W:\n",
    "    def __init__(self, base_dir='../../Data'):\n",
    "        self.base_dir = base_dir\n",
    "        self.target_dir = path.join(self.base_dir, '300W')\n",
    "\n",
    "        self.df = pd.DataFrame(columns=['image', 'label'])\n",
    "\n",
    "    def read_pts(self, filename):\n",
    "        return np.loadtxt(filename, comments=(\"version:\", \"n_points:\", \"{\", \"}\"))\n",
    "\n",
    "    def merge(self):\n",
    "        ds_name = '300W'\n",
    "        img_type = 'png'\n",
    "        # train\n",
    "        mode = '01_Indoor'\n",
    "        targetPattern = path.join(self.base_dir, ds_name, mode, '*.pts')\n",
    "        pts_list = glob.glob(targetPattern)\n",
    "        \n",
    "        for pts_file in tqdm(pts_list, desc=ds_name + '_' + mode):\n",
    "            pts_arr = self.read_pts(pts_file)\n",
    "            if pts_arr.shape != (68, 2):\n",
    "                print(f'shape error: {pts_arr}')\n",
    "                continue\n",
    "\n",
    "            base_csv = path.splitext(path.basename(pts_file))[0] + '.csv'\n",
    "            csv_file = path.join(self.target_dir, ds_name, 'label', base_csv)\n",
    "            np.savetxt(csv_file, pts_arr, fmt='%1.6f')\n",
    "            \n",
    "            base_img = path.splitext(path.basename(pts_file))[0] + '.' + img_type\n",
    "            img_file = path.join(self.base_dir, ds_name, mode, base_img)\n",
    "            save_img = path.join(self.target_dir, ds_name, 'image', base_img)\n",
    "            shutil.copyfile(img_file, save_img)\n",
    "\n",
    "            dir_img = save_img.split(path.sep)[-3:]\n",
    "            dir_img = path.join(dir_img[0], dir_img[1], dir_img[2])\n",
    "            dir_csv = csv_file.split(path.sep)[-3:]\n",
    "            dir_csv = os.path.join(dir_csv[0], dir_csv[1], dir_csv[2])\n",
    "            self.df.loc[self.df.shape[0]] = {'image': dir_img, 'label': dir_csv}\n",
    "\n",
    "        # test\n",
    "        mode = '02_Outdoor'\n",
    "        targetPattern = path.join(self.base_dir, ds_name, mode, '*.pts')\n",
    "        pts_list = glob.glob(targetPattern)\n",
    "        \n",
    "        for pts_file in tqdm(pts_list, desc=ds_name + '_' + mode):\n",
    "            pts_arr = self.read_pts(pts_file)\n",
    "            if pts_arr.shape != (68, 2):\n",
    "                print(f'shape error: {pts_arr}')\n",
    "                continue\n",
    "\n",
    "            base_csv = path.splitext(path.basename(pts_file))[0] + '.csv'\n",
    "            csv_file = path.join(self.target_dir, ds_name, 'label', base_csv)\n",
    "            np.savetxt(csv_file, pts_arr, fmt='%1.6f')\n",
    "\n",
    "            base_img = path.splitext(path.basename(pts_file))[0] + '.' + img_type\n",
    "            img_file = path.join(self.base_dir, ds_name, mode, base_img)\n",
    "            save_img = path.join(self.target_dir, ds_name, 'image', base_img)\n",
    "            shutil.copyfile(img_file, save_img)\n",
    "\n",
    "            dir_img = save_img.split(path.sep)[-3:]\n",
    "            dir_img = path.join(dir_img[0], dir_img[1], dir_img[2])\n",
    "            dir_csv = csv_file.split(path.sep)[-3:]\n",
    "            dir_csv = os.path.join(dir_csv[0], dir_csv[1], dir_csv[2])\n",
    "            self.df.loc[self.df.shape[0]] = {'image': dir_img, 'label': dir_csv}\n",
    "\n",
    "        print(f'DataFrame\\'s shape: {self.df.shape}')\n",
    "\n",
    "    def dataframe(self):\n",
    "        return self.df\n",
    "\n",
    "    def save_csv(self, path):\n",
    "        self.df.to_csv(path)\n",
    "\n",
    "    def __len__(self):\n",
    "        return self.df.shape[0]"
   ],
   "outputs": [],
   "metadata": {}
  },
  {
   "cell_type": "code",
   "execution_count": 45,
   "source": [
    "Merge300W = Merge_300W()"
   ],
   "outputs": [],
   "metadata": {}
  },
  {
   "cell_type": "code",
   "execution_count": 46,
   "source": [
    "Merge300W.merge()"
   ],
   "outputs": [
    {
     "output_type": "stream",
     "name": "stderr",
     "text": [
      "300W_01_Indoor: 100%|██████████| 300/300 [00:02<00:00, 135.90it/s]\n",
      "300W_02_Outdoor:   0%|          | 0/300 [00:00<?, ?it/s]\n"
     ]
    },
    {
     "output_type": "error",
     "ename": "FileNotFoundError",
     "evalue": "[Errno 2] No such file or directory: '../../Data/300W/image/outdoor_289.png'",
     "traceback": [
      "\u001b[0;31m---------------------------------------------------------------------------\u001b[0m",
      "\u001b[0;31mFileNotFoundError\u001b[0m                         Traceback (most recent call last)",
      "\u001b[0;32m<ipython-input-46-08f2a372f4f4>\u001b[0m in \u001b[0;36m<module>\u001b[0;34m\u001b[0m\n\u001b[0;32m----> 1\u001b[0;31m \u001b[0mMerge300W\u001b[0m\u001b[0;34m.\u001b[0m\u001b[0mmerge\u001b[0m\u001b[0;34m(\u001b[0m\u001b[0;34m)\u001b[0m\u001b[0;34m\u001b[0m\u001b[0;34m\u001b[0m\u001b[0m\n\u001b[0m",
      "\u001b[0;32m<ipython-input-44-b9b57dbe043f>\u001b[0m in \u001b[0;36mmerge\u001b[0;34m(self)\u001b[0m\n\u001b[1;32m     56\u001b[0m             \u001b[0mimg_file\u001b[0m \u001b[0;34m=\u001b[0m \u001b[0mpath\u001b[0m\u001b[0;34m.\u001b[0m\u001b[0mjoin\u001b[0m\u001b[0;34m(\u001b[0m\u001b[0mself\u001b[0m\u001b[0;34m.\u001b[0m\u001b[0mbase_dir\u001b[0m\u001b[0;34m,\u001b[0m \u001b[0mds_name\u001b[0m\u001b[0;34m,\u001b[0m \u001b[0mmode\u001b[0m\u001b[0;34m,\u001b[0m \u001b[0mbase_img\u001b[0m\u001b[0;34m)\u001b[0m\u001b[0;34m\u001b[0m\u001b[0;34m\u001b[0m\u001b[0m\n\u001b[1;32m     57\u001b[0m             \u001b[0msave_img\u001b[0m \u001b[0;34m=\u001b[0m \u001b[0mpath\u001b[0m\u001b[0;34m.\u001b[0m\u001b[0mjoin\u001b[0m\u001b[0;34m(\u001b[0m\u001b[0mself\u001b[0m\u001b[0;34m.\u001b[0m\u001b[0mtarget_dir\u001b[0m\u001b[0;34m,\u001b[0m \u001b[0;34m'image'\u001b[0m\u001b[0;34m,\u001b[0m \u001b[0mbase_img\u001b[0m\u001b[0;34m)\u001b[0m\u001b[0;34m\u001b[0m\u001b[0;34m\u001b[0m\u001b[0m\n\u001b[0;32m---> 58\u001b[0;31m             \u001b[0mshutil\u001b[0m\u001b[0;34m.\u001b[0m\u001b[0mcopyfile\u001b[0m\u001b[0;34m(\u001b[0m\u001b[0mimg_file\u001b[0m\u001b[0;34m,\u001b[0m \u001b[0msave_img\u001b[0m\u001b[0;34m)\u001b[0m\u001b[0;34m\u001b[0m\u001b[0;34m\u001b[0m\u001b[0m\n\u001b[0m\u001b[1;32m     59\u001b[0m \u001b[0;34m\u001b[0m\u001b[0m\n\u001b[1;32m     60\u001b[0m             \u001b[0mdir_img\u001b[0m \u001b[0;34m=\u001b[0m \u001b[0msave_img\u001b[0m\u001b[0;34m.\u001b[0m\u001b[0msplit\u001b[0m\u001b[0;34m(\u001b[0m\u001b[0mpath\u001b[0m\u001b[0;34m.\u001b[0m\u001b[0msep\u001b[0m\u001b[0;34m)\u001b[0m\u001b[0;34m[\u001b[0m\u001b[0;34m-\u001b[0m\u001b[0;36m3\u001b[0m\u001b[0;34m:\u001b[0m\u001b[0;34m]\u001b[0m\u001b[0;34m\u001b[0m\u001b[0;34m\u001b[0m\u001b[0m\n",
      "\u001b[0;32m/usr/lib/python3.8/shutil.py\u001b[0m in \u001b[0;36mcopyfile\u001b[0;34m(src, dst, follow_symlinks)\u001b[0m\n\u001b[1;32m    262\u001b[0m         \u001b[0mos\u001b[0m\u001b[0;34m.\u001b[0m\u001b[0msymlink\u001b[0m\u001b[0;34m(\u001b[0m\u001b[0mos\u001b[0m\u001b[0;34m.\u001b[0m\u001b[0mreadlink\u001b[0m\u001b[0;34m(\u001b[0m\u001b[0msrc\u001b[0m\u001b[0;34m)\u001b[0m\u001b[0;34m,\u001b[0m \u001b[0mdst\u001b[0m\u001b[0;34m)\u001b[0m\u001b[0;34m\u001b[0m\u001b[0;34m\u001b[0m\u001b[0m\n\u001b[1;32m    263\u001b[0m     \u001b[0;32melse\u001b[0m\u001b[0;34m:\u001b[0m\u001b[0;34m\u001b[0m\u001b[0;34m\u001b[0m\u001b[0m\n\u001b[0;32m--> 264\u001b[0;31m         \u001b[0;32mwith\u001b[0m \u001b[0mopen\u001b[0m\u001b[0;34m(\u001b[0m\u001b[0msrc\u001b[0m\u001b[0;34m,\u001b[0m \u001b[0;34m'rb'\u001b[0m\u001b[0;34m)\u001b[0m \u001b[0;32mas\u001b[0m \u001b[0mfsrc\u001b[0m\u001b[0;34m,\u001b[0m \u001b[0mopen\u001b[0m\u001b[0;34m(\u001b[0m\u001b[0mdst\u001b[0m\u001b[0;34m,\u001b[0m \u001b[0;34m'wb'\u001b[0m\u001b[0;34m)\u001b[0m \u001b[0;32mas\u001b[0m \u001b[0mfdst\u001b[0m\u001b[0;34m:\u001b[0m\u001b[0;34m\u001b[0m\u001b[0;34m\u001b[0m\u001b[0m\n\u001b[0m\u001b[1;32m    265\u001b[0m             \u001b[0;31m# macOS\u001b[0m\u001b[0;34m\u001b[0m\u001b[0;34m\u001b[0m\u001b[0;34m\u001b[0m\u001b[0m\n\u001b[1;32m    266\u001b[0m             \u001b[0;32mif\u001b[0m \u001b[0m_HAS_FCOPYFILE\u001b[0m\u001b[0;34m:\u001b[0m\u001b[0;34m\u001b[0m\u001b[0;34m\u001b[0m\u001b[0m\n",
      "\u001b[0;31mFileNotFoundError\u001b[0m: [Errno 2] No such file or directory: '../../Data/300W/image/outdoor_289.png'"
     ]
    }
   ],
   "metadata": {}
  },
  {
   "cell_type": "code",
   "execution_count": 40,
   "source": [
    "Merge300W.save_csv('eval.csv')"
   ],
   "outputs": [],
   "metadata": {}
  },
  {
   "cell_type": "code",
   "execution_count": null,
   "source": [],
   "outputs": [],
   "metadata": {}
  }
 ],
 "metadata": {
  "orig_nbformat": 4,
  "language_info": {
   "name": "python",
   "version": "3.8.10",
   "mimetype": "text/x-python",
   "codemirror_mode": {
    "name": "ipython",
    "version": 3
   },
   "pygments_lexer": "ipython3",
   "nbconvert_exporter": "python",
   "file_extension": ".py"
  },
  "kernelspec": {
   "name": "python3",
   "display_name": "Python 3.8.10 64-bit"
  },
  "interpreter": {
   "hash": "916dbcbb3f70747c44a77c7bcd40155683ae19c65e1c03b4aa3499c5328201f1"
  }
 },
 "nbformat": 4,
 "nbformat_minor": 2
}